{
 "cells": [
  {
   "cell_type": "code",
   "execution_count": 1,
   "metadata": {},
   "outputs": [],
   "source": [
    "import pandas as pd\n",
    "\n",
    "\n",
    "# Data from 2022\n",
    "\n",
    "df_capes_22 = pd.read_csv('bolsa_capes_2022-2023.csv', sep=';',encoding='ANSI')\n",
    "\n",
    "# Deleting the only column that differs from the other datasets\n",
    "\n",
    "df_capes_22 = df_capes_22.drop(columns=['TP_PROGRAMA'])\n",
    "\n",
    "# data from 2010 to 2021\n",
    "\n",
    "\n",
    "df_capes_10 = pd.read_csv('bolsa_capes_2010-2021.csv', sep=',', encoding=\"ANSI\", low_memory=False)\n",
    "\n",
    "# Merge the datasets\n",
    "\n",
    "df_capes = pd.concat([df_capes_22,df_capes_10], ignore_index=True)\n",
    "\n",
    "# The analysis will consider only two types of level: \"Mestrado and \"Doutorado\"\n",
    "\n",
    "\n",
    "df_capes = df_capes.drop(df_capes[(df_capes['NM_NIVEL_PADRAO']=='PÓS-DOUTORADO') | (df_capes['NM_NIVEL_PADRAO']== 'OUTROS')].index)\n",
    "\n",
    "\n",
    "# Deleting all lines with no information about area of knowledgment\n",
    "\n",
    "df_capes = df_capes.drop(df_capes[df_capes[\"NM_GRANDE_AREA\"]=='NI' ].index)\n",
    "\n",
    "df_capes.to_csv(\"bolsas_capes.csv\", index=False)\n"
   ]
  },
  {
   "cell_type": "code",
   "execution_count": 10,
   "metadata": {},
   "outputs": [
    {
     "data": {
      "text/plain": [
       "(112300, 16)"
      ]
     },
     "execution_count": 10,
     "metadata": {},
     "output_type": "execute_result"
    }
   ],
   "source": [
    "df_capes.shape"
   ]
  },
  {
   "cell_type": "code",
   "execution_count": 2,
   "metadata": {},
   "outputs": [
    {
     "data": {
      "text/plain": [
       "NM_NIVEL_PADRAO\n",
       "MESTRADO     62505\n",
       "DOUTORADO    49795\n",
       "Name: count, dtype: int64"
      ]
     },
     "execution_count": 2,
     "metadata": {},
     "output_type": "execute_result"
    }
   ],
   "source": [
    "df_capes['NM_NIVEL_PADRAO'].value_counts()"
   ]
  },
  {
   "cell_type": "code",
   "execution_count": null,
   "metadata": {},
   "outputs": [
    {
     "data": {
      "text/plain": [
       "AN_REFERENCIA\n",
       "2022    10817\n",
       "2018     8964\n",
       "2017     8843\n",
       "2019     8771\n",
       "2015     8706\n",
       "2020     8681\n",
       "2016     8546\n",
       "2012     8487\n",
       "2021     8368\n",
       "2011     8241\n",
       "2014     8156\n",
       "2010     7906\n",
       "2013     7814\n",
       "Name: count, dtype: int64"
      ]
     },
     "execution_count": 3,
     "metadata": {},
     "output_type": "execute_result"
    }
   ],
   "source": [
    "df_capes['AN_REFERENCIA'].value_counts()"
   ]
  },
  {
   "cell_type": "code",
   "execution_count": null,
   "metadata": {},
   "outputs": [
    {
     "data": {
      "text/plain": [
       "27"
      ]
     },
     "execution_count": 4,
     "metadata": {},
     "output_type": "execute_result"
    }
   ],
   "source": [
    "# Checking the amount of UF\n",
    "\n",
    "len (pd.unique(df_capes[\"SG_UF_IES_CAPES\"]))"
   ]
  },
  {
   "cell_type": "code",
   "execution_count": 7,
   "metadata": {},
   "outputs": [
    {
     "data": {
      "text/plain": [
       "NM_NIVEL_PADRAO\n",
       "MESTRADO     62505\n",
       "DOUTORADO    49795\n",
       "Name: count, dtype: int64"
      ]
     },
     "execution_count": 7,
     "metadata": {},
     "output_type": "execute_result"
    }
   ],
   "source": [
    "# Checking level types\n",
    "\n",
    "df_capes['NM_NIVEL_PADRAO'].value_counts()"
   ]
  },
  {
   "cell_type": "code",
   "execution_count": null,
   "metadata": {},
   "outputs": [
    {
     "data": {
      "text/plain": [
       "NM_REGIAO_IES_CAPES\n",
       "SUDESTE         47686\n",
       "SUL             25803\n",
       "NORDESTE        22414\n",
       "CENTRO-OESTE     9556\n",
       "NORTE            6841\n",
       "Name: count, dtype: int64"
      ]
     },
     "execution_count": 8,
     "metadata": {},
     "output_type": "execute_result"
    }
   ],
   "source": [
    "# # Checking the regions\n",
    "\n",
    "df_capes['NM_REGIAO_IES_CAPES'].value_counts()"
   ]
  },
  {
   "cell_type": "code",
   "execution_count": 11,
   "metadata": {},
   "outputs": [
    {
     "data": {
      "text/plain": [
       "NM_GRANDE_AREA\n",
       "CIÊNCIAS DA SAÚDE              17089\n",
       "CIÊNCIAS HUMANAS               16203\n",
       "CIÊNCIAS AGRÁRIAS              13789\n",
       "MULTIDISCIPLINAR               13383\n",
       "CIÊNCIAS BIOLÓGICAS            11970\n",
       "ENGENHARIAS                    11629\n",
       "CIÊNCIAS SOCIAIS APLICADAS     11235\n",
       "CIÊNCIAS EXATAS E DA TERRA     11216\n",
       "LINGÜÍSTICA, LETRAS E ARTES     5786\n",
       "Name: count, dtype: int64"
      ]
     },
     "execution_count": 11,
     "metadata": {},
     "output_type": "execute_result"
    }
   ],
   "source": [
    "# Checking knowledge areas\n",
    "\n",
    "df_capes[\"NM_GRANDE_AREA\"].value_counts()"
   ]
  },
  {
   "cell_type": "code",
   "execution_count": 12,
   "metadata": {},
   "outputs": [
    {
     "data": {
      "text/plain": [
       "NM_NATUREZA_JURIDICA\n",
       "FEDERAL       70832\n",
       "ESTADUAL      27968\n",
       "PARTICULAR    13117\n",
       "MUNICIPAL       383\n",
       "Name: count, dtype: int64"
      ]
     },
     "execution_count": 12,
     "metadata": {},
     "output_type": "execute_result"
    }
   ],
   "source": [
    "# Checking the type of institution\n",
    "\n",
    "df_capes['NM_NATUREZA_JURIDICA'].value_counts()"
   ]
  }
 ],
 "metadata": {
  "kernelspec": {
   "display_name": "base",
   "language": "python",
   "name": "python3"
  },
  "language_info": {
   "codemirror_mode": {
    "name": "ipython",
    "version": 3
   },
   "file_extension": ".py",
   "mimetype": "text/x-python",
   "name": "python",
   "nbconvert_exporter": "python",
   "pygments_lexer": "ipython3",
   "version": "3.12.7"
  }
 },
 "nbformat": 4,
 "nbformat_minor": 2
}
